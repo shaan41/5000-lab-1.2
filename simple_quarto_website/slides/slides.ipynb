{
 "cells": [
  {
   "cell_type": "raw",
   "metadata": {},
   "source": [
    "---\n",
    "title: \"Some values that Data Science can lead too\"\n",
    "author: \"Ishaan Babbar\" \n",
    "format: revealjs\n",
    "---"
   ]
  },
  {
   "attachments": {},
   "cell_type": "markdown",
   "metadata": {},
   "source": [
    "## What it can lead too \n",
    "\n",
    "- Can lead into advancments of AI/MLops \n",
    "- Can help create many simulations with data and probability of events occuring\n",
    "\n",
    "## An example of this would be \n",
    "\n",
    "- Sports Betting \n",
    "\n",
    "![](images/sports.png)\n",
    "\n",
    "## The results of this example \n",
    "\n",
    "- People would be able to use AI or run simulations to see who they should bet on to increase their chances on winning. \n",
    "- It would result in more people attempting to gamble and the companies who make these probability machines such as AWS will benefit from it. Thus the studies of Data science using analytics and data will continue to develop the AI model not just for Betting but everything in the world as well.\n",
    "\n",
    "1[](images/datascience.png){.absolute top=50 right=50 width=\"450\" height=\"250\"}\n",
    "\n",
    "Betting will increase like how this line graph is! Every year more people will begin doing it more and set new records.\n",
    "\n",
    "More on this topic about Sports betting can be checked with this article [@nichols2014impact]\n",
    "\n",
    "```{python}\n",
    "#| echo: true\n",
    "\n",
    "import matplotlib.pyplot as plt\n",
    "x = [3,4,7,8,12] \n",
    "y = [2,7,8,10,15] \n",
    "\n",
    "plt.plot(x,y)\n",
    "plt.xlabel('x-axis')\n",
    "plt.ylabel('y-axis')\n",
    "plt.show()\n",
    "\n",
    "```"
   ]
  },
  {
   "cell_type": "code",
   "execution_count": null,
   "metadata": {},
   "outputs": [],
   "source": []
  }
 ],
 "metadata": {
  "kernelspec": {
   "display_name": "Python 3 (ipykernel)",
   "language": "python",
   "name": "python3"
  },
  "language_info": {
   "codemirror_mode": {
    "name": "ipython",
    "version": 3
   },
   "file_extension": ".py",
   "mimetype": "text/x-python",
   "name": "python",
   "nbconvert_exporter": "python",
   "pygments_lexer": "ipython3",
   "version": "3.11.4"
  }
 },
 "nbformat": 4,
 "nbformat_minor": 4
}
